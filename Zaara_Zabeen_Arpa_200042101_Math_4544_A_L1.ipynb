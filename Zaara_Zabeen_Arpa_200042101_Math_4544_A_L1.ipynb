{
  "nbformat": 4,
  "nbformat_minor": 0,
  "metadata": {
    "colab": {
      "provenance": []
    },
    "kernelspec": {
      "name": "python3",
      "display_name": "Python 3"
    },
    "language_info": {
      "name": "python"
    }
  },
  "cells": [
    {
      "cell_type": "markdown",
      "metadata": {
        "id": "SChhcgB_Tkv9"
      },
      "source": [
        "# **Lab 1 : Bisection Method**<br>\n",
        "\n",
        "The bisection method (also known as the binary search method) is a method of finding roots of a non-linear function. The assumption here is that the function is real continuous, otherwise the bisection method will not work. It is based on the **Intermediate Value Theorem** which states that if f(x) is a real continuous function, and if f(x<sub>l</sub>)f(x<sub>u</sub>)\\< 0 then there must be a root between x<sub>l</sub> and x<sub>u</sub>.\n",
        "\n",
        "In today's lab, we will be implementing the bisection method in python. We will be considering the function f(x) as an array of coefficients, for instance if we want to have f(x) = x<sup>3</sup>-2x<sup>2</sup>+4, then in python we will create an array as follows:\n"
      ]
    },
    {
      "cell_type": "code",
      "metadata": {
        "id": "rZ4tGQSjTvYF",
        "colab": {
          "base_uri": "https://localhost:8080/"
        },
        "outputId": "618df96a-6b8a-4a38-fa70-b967cd8295ce"
      },
      "source": [
        "import numpy as np\n",
        "\n",
        "f = np.array([1,-2,0,4])\n",
        "\n",
        "print(f)"
      ],
      "execution_count": null,
      "outputs": [
        {
          "output_type": "stream",
          "name": "stdout",
          "text": [
            "[ 1 -2  0  4]\n"
          ]
        }
      ]
    },
    {
      "cell_type": "markdown",
      "metadata": {
        "id": "E4vSfOrrTwlc"
      },
      "source": [
        "Next, you will need to create a user-defined function as follows\n",
        "\n",
        "```\n",
        "bisection_method(f, xl, xu, epsilon)\n",
        "```\n",
        "This function will return the root of the equation represented by the array f and in case it does not reach the root exactly then it will return the close enough value to the root that has an absolute relative approximate error of at most epsilon (%).\n",
        "\n",
        "In python, functions are defined as follows"
      ]
    },
    {
      "cell_type": "code",
      "metadata": {
        "colab": {
          "base_uri": "https://localhost:8080/"
        },
        "id": "aUR8kbzqT0AM",
        "outputId": "3a1113a2-f28d-4462-8499-1cec1c7248cf"
      },
      "source": [
        "#Execute this cell to test how the function works\n",
        "\n",
        "def func(a,b):\n",
        "  result = a + b\n",
        "  return result\n",
        "\n",
        "print(func(1,2))"
      ],
      "execution_count": null,
      "outputs": [
        {
          "output_type": "stream",
          "name": "stdout",
          "text": [
            "3\n"
          ]
        }
      ]
    },
    {
      "cell_type": "markdown",
      "metadata": {
        "id": "cCGekrFWT3Lc"
      },
      "source": [
        "Note that in python, we do not need to specify the data type for parameters nor any return type for the function as these are implicitly determined. Also, note the colon (:) after the function signature. Indentation matters in python, since the consecutive codes having same indentation will be considered as a single block."
      ]
    },
    {
      "cell_type": "markdown",
      "metadata": {
        "id": "3sOLCbqJT7q0"
      },
      "source": [
        "##Task 1\n",
        "Implement the function for bisection method following the requirements set earlier. Write a script after the function to call it and test whether it is working correctly."
      ]
    },
    {
      "cell_type": "code",
      "metadata": {
        "id": "f6HGUB7nT9k9",
        "colab": {
          "base_uri": "https://localhost:8080/"
        },
        "outputId": "c5402723-9fa5-47b2-a127-482ce7e5d1be"
      },
      "source": [
        "#Complete the following function\n",
        "def func(f, x):\n",
        "    length = len(f)\n",
        "    total = 0\n",
        "    j = length - 1\n",
        "    for i in f:\n",
        "        total += i * (x ** j)\n",
        "        j -= 1\n",
        "    return total\n",
        "\n",
        "\n",
        "def bisection_method(f, xl, xu, epsilon):\n",
        "  count=0\n",
        "  errors=[]\n",
        "  while (xu - xl) / 2 > epsilon:\n",
        "    count+=1\n",
        "    xm = (xl + xu) / 2\n",
        "    if func(f, xl) * func(f, xm) < 0:\n",
        "        xu = xm\n",
        "    else:\n",
        "        xl = xm\n",
        "    errors.append((((xl+xu/2)-xm)*100)/(xl+xu/2))\n",
        "\n",
        "\n",
        "  return (xl + xu) / 2, count, errors\n",
        "\n",
        "#Write a driver code here for calling the function and testing it\n",
        "answer, count, errors = bisection_method([1, -2, 0, 4], -2, 3, 0.005)\n",
        "print(answer)\n"
      ],
      "execution_count": 10,
      "outputs": [
        {
          "output_type": "stream",
          "name": "stdout",
          "text": [
            "-1.1259765625\n"
          ]
        }
      ]
    },
    {
      "cell_type": "markdown",
      "metadata": {
        "id": "5Jb9dNIqT_f8"
      },
      "source": [
        "We can plot graphs in python using the matplotlib library. An example of plotting graphs is shown here"
      ]
    },
    {
      "cell_type": "code",
      "metadata": {
        "colab": {
          "base_uri": "https://localhost:8080/",
          "height": 295
        },
        "id": "0XJwGIRjUCy7",
        "outputId": "ff30fe67-4b35-473e-fd06-c289576e1455"
      },
      "source": [
        "import numpy as np\n",
        "import matplotlib.pyplot as plt\n",
        "\n",
        "iters = np.arange(0, 5) #start=0, stop=5, and since no step is given, so default step=1\n",
        "vals = np.arange(100, 200, 20) #start=100, stop=200, step=20\n",
        "\n",
        "plt.plot(iters, vals)\n",
        "plt.title(\"Iterations vs values plot\")\n",
        "plt.xlabel(\"Iteration\")\n",
        "plt.ylabel(\"Value\")\n",
        "plt.show()"
      ],
      "execution_count": null,
      "outputs": [
        {
          "output_type": "display_data",
          "data": {
            "image/png": "[encoded data removed]",
            "text/plain": [
              "<Figure size 432x288 with 1 Axes>"
            ]
          },
          "metadata": {
            "needs_background": "light"
          }
        }
      ]
    },
    {
      "cell_type": "markdown",
      "metadata": {
        "id": "Z6sc0ZNUUGNk"
      },
      "source": [
        "## Task 2\n",
        "Generate a plot of **iteration vs relative approx error (%)** for the bisection method function you implemented earlier."
      ]
    },
    {
      "cell_type": "code",
      "source": [
        "import numpy as np\n",
        "import matplotlib.pyplot as plt\n",
        "\n",
        "\n",
        "#Complete the following function\n",
        "def func(f, x):\n",
        "    length = len(f)\n",
        "    total = 0\n",
        "    j = length - 1\n",
        "    for i in f:\n",
        "        total += i * (x ** j)\n",
        "        j -= 1\n",
        "    return total\n",
        "\n",
        "\n",
        "def bisection_method(f, xl, xu, epsilon):\n",
        "  count=0\n",
        "  errors=[]\n",
        "  while (xu - xl) / 2 > epsilon:\n",
        "    count+=1\n",
        "    xm = (xl + xu) / 2\n",
        "    if func(f, xl) * func(f, xm) < 0:\n",
        "        xu = xm\n",
        "    else:\n",
        "        xl = xm\n",
        "    errors.append((((xl+xu/2)-xm)*100)/(xl+xu/2))\n",
        "\n",
        "  return (xl + xu) / 2, count, errors\n",
        "\n",
        "#Write a driver code here for calling the function and testing it\n",
        "answer, count, errors = bisection_method([1, -2, 0, 4], -2, 3, 0.005)\n",
        "print(answer)\n",
        "\n",
        "\n",
        "counts = np.arange(0, count) #start=0, stop=5, and since no step is given, so default step=1\n",
        "errors = np.array(errors)\n",
        "print(errors)\n",
        "plt.plot(counts, errors)\n",
        "plt.title(\"Iterations vs errors plot\")\n",
        "plt.xlabel(\"Iteration\")\n",
        "plt.ylabel(\"Errors\")\n",
        "plt.show()\n"
      ],
      "metadata": {
        "id": "Zwixhq3bCn9d",
        "colab": {
          "base_uri": "https://localhost:8080/",
          "height": 524
        },
        "outputId": "ccdc78ec-de84-4fd7-a3dc-83d0f676b714"
      },
      "execution_count": 9,
      "outputs": [
        {
          "output_type": "stream",
          "name": "stdout",
          "text": [
            "-1.1259765625\n",
            "[128.57142857  68.42105263  21.42857143  44.26229508  30.35714286\n",
            "  31.77570093  34.87297921  34.09873708  33.1408776 ]\n"
          ]
        },
        {
          "output_type": "display_data",
          "data": {
            "text/plain": [
              "<Figure size 640x480 with 1 Axes>"
            ],
            "image/png": "[encoded data removed]"
          },
          "metadata": {}
        }
      ]
    }
  ]
}